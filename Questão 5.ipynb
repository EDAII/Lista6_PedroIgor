{
 "cells": [
  {
   "cell_type": "markdown",
   "metadata": {},
   "source": [
    "**5 - A binary tree is a rooted tree in which each node has at most two children.\n",
    "Show by induction that in any binary tree the number of nodes with two\n",
    "children is exactly one less than the number of leaves.**\n",
    "*Página 108, Livro: Algorithm Design - Jon Kleinberg e Éva Tardos*\n",
    "\n",
    "n = quantidade de nós com dois filhos<br>\n",
    "l = quantidade de folhas na árvore binária<br>\n",
    "Mostrar que para uma árvore binária arbitrária: n = l-1 <br>\n",
    "\n",
    "**Passo base:**<br>\n",
    "Árvore binária com 4 folhas. l = 4 <br>\n",
    "![](img/q5.jpg)<br>\n",
    "3 = 4 - 1 => 3 Correto<br><br>\n",
    "\n",
    "**Passo Indutivo:**<br><br>\n",
    "**Hipótese:**<br>\n",
    "n = l - 1<br>\n",
    "**Indução:** *para l = k+1, quanto vale n?*<br>\n",
    "n = (k+1)-1<br>\n",
    "Substituindo o valor da n a partir da Hipótese:<br>\n",
    "l-1 = (k+1)-1<br>\n",
    "isolando k:<br>\n",
    "k = l-1 que é igual a hipótese.\n"
   ]
  },
  {
   "cell_type": "code",
   "execution_count": null,
   "metadata": {},
   "outputs": [],
   "source": []
  }
 ],
 "metadata": {
  "kernelspec": {
   "display_name": "Python 3",
   "language": "python",
   "name": "python3"
  },
  "language_info": {
   "codemirror_mode": {
    "name": "ipython",
    "version": 3
   },
   "file_extension": ".py",
   "mimetype": "text/x-python",
   "name": "python",
   "nbconvert_exporter": "python",
   "pygments_lexer": "ipython3",
   "version": "3.7.4"
  }
 },
 "nbformat": 4,
 "nbformat_minor": 2
}
