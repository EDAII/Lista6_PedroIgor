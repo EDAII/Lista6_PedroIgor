{
 "cells": [
  {
   "cell_type": "code",
   "execution_count": 78,
   "metadata": {
    "scrolled": false
   },
   "outputs": [
    {
     "ename": "KeyboardInterrupt",
     "evalue": "",
     "output_type": "error",
     "traceback": [
      "\u001b[0;31m---------------------------------------------------------------------------\u001b[0m",
      "\u001b[0;31mKeyboardInterrupt\u001b[0m                         Traceback (most recent call last)",
      "\u001b[0;32m<ipython-input-78-5d806e34c064>\u001b[0m in \u001b[0;36m<module>\u001b[0;34m\u001b[0m\n\u001b[1;32m     67\u001b[0m \u001b[0mj\u001b[0m \u001b[0;34m=\u001b[0m \u001b[0;36m0\u001b[0m\u001b[0;34m\u001b[0m\u001b[0;34m\u001b[0m\u001b[0m\n\u001b[1;32m     68\u001b[0m \u001b[0;32mfor\u001b[0m \u001b[0mp\u001b[0m \u001b[0;32min\u001b[0m \u001b[0mpixels\u001b[0m\u001b[0;34m:\u001b[0m\u001b[0;34m\u001b[0m\u001b[0;34m\u001b[0m\u001b[0m\n\u001b[0;32m---> 69\u001b[0;31m     \u001b[0;32mif\u001b[0m \u001b[0mp\u001b[0m \u001b[0;32min\u001b[0m \u001b[0mmy_node\u001b[0m\u001b[0;34m.\u001b[0m\u001b[0madj\u001b[0m\u001b[0;34m:\u001b[0m\u001b[0;34m\u001b[0m\u001b[0;34m\u001b[0m\u001b[0m\n\u001b[0m\u001b[1;32m     70\u001b[0m         \u001b[0mtemp\u001b[0m\u001b[0;34m.\u001b[0m\u001b[0mappend\u001b[0m\u001b[0;34m(\u001b[0m\u001b[0;34m[\u001b[0m\u001b[0;36m255\u001b[0m\u001b[0;34m,\u001b[0m\u001b[0;36m255\u001b[0m\u001b[0;34m,\u001b[0m\u001b[0;36m255\u001b[0m\u001b[0;34m]\u001b[0m\u001b[0;34m)\u001b[0m\u001b[0;34m\u001b[0m\u001b[0;34m\u001b[0m\u001b[0m\n\u001b[1;32m     71\u001b[0m     \u001b[0;32melse\u001b[0m\u001b[0;34m:\u001b[0m\u001b[0;34m\u001b[0m\u001b[0;34m\u001b[0m\u001b[0m\n",
      "\u001b[0;31mKeyboardInterrupt\u001b[0m: "
     ]
    }
   ],
   "source": [
    "import cv2\n",
    "from matplotlib import pyplot as plt\n",
    "from copy import copy\n",
    "img = cv2.imread('teste.jpg')\n",
    "img = img[:,:,::-1]\n",
    "w, h = img.shape[:2]\n",
    "class Node:\n",
    "    def __init__(self, color, pos):\n",
    "        self.color = color\n",
    "        self.pos = pos\n",
    "        self.adj = []\n",
    "        self.ri = [0, 0]\n",
    "        self.rj = [0, 0]\n",
    "        self.set_color = color\n",
    "    def add_color(self, rgb):\n",
    "        self.color = rgb\n",
    "    def add_pos(self, pos):\n",
    "        self.pos = pos\n",
    "    def add_neighbor(self, n):\n",
    "        if (n.pos[0] > (self.pos[0]-self.pos[0]-2) and n.pos[0] < (self.ri[1]+self.pos[0]+2)):\n",
    "            if (n.pos[1] > (self.rj[0]-self.pos[1]-2) and n.pos[1] < (self.rj[1]+self.pos[1]+2)):\n",
    "                self.adj.append(n)\n",
    "                self.ri[0]+=1\n",
    "                self.ri[1]+=1\n",
    "                self.rj[0]+=1\n",
    "                self.rj[1]+=1\n",
    "                self.set_color = [int((self.set_color[0]+n.color[0])/2), int((self.set_color[1]+n.color[1])/2), int((self.set_color[2]+n.color[2])/2)]\n",
    "                return True\n",
    "        return False\n",
    "\n",
    "class Graph:\n",
    "    def __init__(self):\n",
    "        color = [0,0,0]\n",
    "        self.i = [10000000000, 0]\n",
    "        self.j = [10000000000, 0]\n",
    "    def add_color(self, rgb):\n",
    "        self.color = rgb\n",
    "    def add_pos(self, pos):\n",
    "        self.pos = pos\n",
    "        self.i = [min(self.i[0], pos[0]), max(self.i[1], pos[1])]\n",
    "        self.j = [min(self.j[0], pos[1]), max(self.j[1], pos[1])]\n",
    "\n",
    "def is_same_color(color1, color2):\n",
    "    if abs(color1[0] - color2[0]) <= 50:\n",
    "        if abs(color1[1] - color2[1]) <= 50:\n",
    "            if abs(color1[2] - color2[2]) <= 50:\n",
    "                return True\n",
    "    return False\n",
    "\n",
    "pixels = []\n",
    "for i in range(0, w):\n",
    "    for j in range(0, h):\n",
    "        n = Node(img[i,j], [i, j])\n",
    "        pixels.append(n)\n",
    "search = [200, 600]\n",
    "for p in pixels:\n",
    "    if p.pos == search:\n",
    "        my_node = p\n",
    "        break\n",
    "for p in pixels:\n",
    "    if is_same_color(p.color, my_node.color):\n",
    "        my_node.add_neighbor(p)\n",
    "\n",
    "edited = []\n",
    "temp = []\n",
    "i = 0\n",
    "j = 0\n",
    "for p in pixels:\n",
    "    if p in my_node.adj:\n",
    "        temp.append([255,255,255])\n",
    "    else:\n",
    "        temp.append([0,0,0])\n",
    "    i+=1\n",
    "    if i == h:\n",
    "        edited.append(temp)\n",
    "        temp = []\n",
    "        i = 0\n",
    "        j+=1\n",
    "        if j == w:\n",
    "            break\n",
    "print(my_node.ri)\n",
    "print(my_node.rj)\n",
    "print(len(my_node.adj))\n",
    "plt.imshow(edited)\n"
   ]
  },
  {
   "cell_type": "code",
   "execution_count": null,
   "metadata": {},
   "outputs": [],
   "source": []
  }
 ],
 "metadata": {
  "kernelspec": {
   "display_name": "Python 3",
   "language": "python",
   "name": "python3"
  },
  "language_info": {
   "codemirror_mode": {
    "name": "ipython",
    "version": 3
   },
   "file_extension": ".py",
   "mimetype": "text/x-python",
   "name": "python",
   "nbconvert_exporter": "python",
   "pygments_lexer": "ipython3",
   "version": "3.7.4"
  }
 },
 "nbformat": 4,
 "nbformat_minor": 2
}
