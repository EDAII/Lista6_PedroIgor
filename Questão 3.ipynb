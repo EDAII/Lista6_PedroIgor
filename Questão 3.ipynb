{
 "cells": [
  {
   "cell_type": "markdown",
   "metadata": {},
   "source": [
    "**3 - The algorithm described in Section 3.6 for computing a topological order-\n",
    "ing of a DAG repeatedly finds a node with no incoming edges and deletes\n",
    "it. This will eventually produce a topological ordering, provided that the\n",
    "input graph really is a DAG.<br>\n",
    "But suppose that we’re given an arbitrary graph that may or may not\n",
    "be a DAG. Extend the topological ordering algorithm so that, given an\n",
    "input directed graph G, it outputs one of two things: (a) a topological\n",
    "ordering, thus establishing that G is a DAG; or (b) a cycle in G, thus\n",
    "establishing that G is not a DAG. The running time of your algorithm\n",
    "should be O(m + n) for a directed graph with n nodes and m edges.**\n",
    "\n",
    "Algoritmo trivial: Realizar a ordenação topológica. Se conseguir, retornar a árvore resultante. Se não, passar por cada nó procurando quais nós participam de um ciclo e verificar quais deles iniciam com a ordenação topológica até aonde funcionou.<br>\n",
    "Complexidade:<br>\n",
    "Ordenação topológica: O(n+m) <br>\n",
    "Procurar ciclo partir de todos os nós: O(n*(n+m))<br>\n",
    "Complexidade geral: O(n²)<br>\n",
    "\n",
    "É possível fazer melhor? Sim!<br>\n",
    "Aproveitar a própria implementação da ordenação topológica para encontar o ciclo que não permite que o grafo seja acíclico.<br>\n",
    "\n",
    "Em cada passo da ordenação topológica é consultada um set S que contém a quantidade de nós \"pré-requisitos\" pra cada nó. Se não houver nós com quantidade igual a 0 temos um ciclo, temos que retornar ao último nó visitado e retornar o ciclo a partir deste nó.<br>"
   ]
  },
  {
   "cell_type": "code",
   "execution_count": 89,
   "metadata": {},
   "outputs": [
    {
     "name": "stdout",
     "output_type": "stream",
     "text": [
      "Following is a Topological Sort of the given graph\n",
      "[<__main__.Node object at 0x7fd494548e50>, <__main__.Node object at 0x7fd494548fd0>, <__main__.Node object at 0x7fd494468750>]\n",
      "[0, 2, 3, 1]\n"
     ]
    }
   ],
   "source": [
    "from collections import defaultdict  \n",
    "class Graph: \n",
    "    def __init__(self,vertices): \n",
    "        self.graph = defaultdict(list)\n",
    "        self.V = vertices \n",
    "        \n",
    "    def addEdge(self,u,v): \n",
    "        self.graph[u].append(v)\n",
    "        \n",
    "    def topologicalSortUtil(self,v,visited,stack):\n",
    "        visited[v] = True\n",
    "        for i in self.graph[v]: \n",
    "            if visited[i] == False: \n",
    "                self.topologicalSortUtil(i,visited,stack)\n",
    "        stack.insert(0,v)\n",
    "\n",
    "    def topologicalSort(self):\n",
    "        visited = [False]*self.V \n",
    "        stack =[]\n",
    "        for i in range(self.V):\n",
    "            if visited[i] == False: \n",
    "                self.topologicalSortUtil(i,visited,stack) \n",
    "  \n",
    "        # Print contents of stack \n",
    "        print(stack)\n",
    "  \n",
    "g = Graph(4) \n",
    "g.addEdge(0, 1)\n",
    "g.addEdge(0, 2)\n",
    "g.addEdge(2, 3)\n",
    "g.addEdge(3, 2)\n",
    "  \n",
    "print (\"Following is a Topological Sort of the given graph\")\n",
    "g.topologicalSort() \n",
    "\n",
    "    \n",
    "    \n",
    "                \n",
    "                "
   ]
  }
 ],
 "metadata": {
  "kernelspec": {
   "display_name": "Python 3",
   "language": "python",
   "name": "python3"
  },
  "language_info": {
   "codemirror_mode": {
    "name": "ipython",
    "version": 3
   },
   "file_extension": ".py",
   "mimetype": "text/x-python",
   "name": "python",
   "nbconvert_exporter": "python",
   "pygments_lexer": "ipython3",
   "version": "3.7.4"
  }
 },
 "nbformat": 4,
 "nbformat_minor": 2
}
