{
 "cells": [
  {
   "cell_type": "markdown",
   "metadata": {},
   "source": [
    "**3 - The algorithm described in Section 3.6 for computing a topological order-\n",
    "ing of a DAG repeatedly finds a node with no incoming edges and deletes\n",
    "it. This will eventually produce a topological ordering, provided that the\n",
    "input graph really is a DAG.<br>\n",
    "But suppose that we’re given an arbitrary graph that may or may not\n",
    "be a DAG. Extend the topological ordering algorithm so that, given an\n",
    "input directed graph G, it outputs one of two things: (a) a topological\n",
    "ordering, thus establishing that G is a DAG; or (b) a cycle in G, thus\n",
    "establishing that G is not a DAG. The running time of your algorithm\n",
    "should be O(m + n) for a directed graph with n nodes and m edges.**\n",
    "\n",
    "Algoritmo trivial: Realizar a ordenação topológica. Se conseguir, retornar a árvore resultante. Se não, passar por cada nó procurando quais nós participam de um ciclo e verificar quais deles iniciam com a ordenação topológica até aonde funcionou.<br>\n",
    "Complexidade:<br>\n",
    "Ordenação topológica: O(n+m) <br>\n",
    "Procurar ciclo partir de todos os nós: O(n*(n+m))<br>\n",
    "Complexidade geral: O(n²)<br>\n",
    "\n",
    "É possível fazer melhor? Sim!<br>\n",
    "Aproveitar a própria implementação da ordenação topológica para encontar o ciclo que não permite que o grafo seja acíclico.<br>\n",
    "\n",
    "Em cada passo da ordenação topológica é consultada um set S que contém a quantidade de nós \"pré-requisitos\" pra cada nó. Se não houver nós com quantidade igual a 0 temos um ciclo, temos que retornar ao último nó visitado e retornar o ciclo a partir deste nó.<br>"
   ]
  },
  {
   "cell_type": "code",
   "execution_count": 181,
   "metadata": {},
   "outputs": [
    {
     "name": "stdout",
     "output_type": "stream",
     "text": [
      "cycle detected\n",
      "[1, 2, 3, 4]\n",
      "DAG\n",
      "[1, 2, 3, 4, 5]\n"
     ]
    }
   ],
   "source": [
    "from collections import deque\n",
    "def topological(graph):\n",
    "    in_degree = { u : 0 for u in graph }\n",
    "    visited = []\n",
    "    for u in graph:\n",
    "        for v in graph[u]:\n",
    "            in_degree[v] += 1\n",
    " \n",
    "    Q = deque()\n",
    "    for u in in_degree:\n",
    "        if in_degree[u] == 0:\n",
    "            Q.appendleft(u)\n",
    " \n",
    "    L = []\n",
    "     \n",
    "    while Q:                \n",
    "        u = Q.pop()\n",
    "        visited.append(u)\n",
    "        L.append(u)\n",
    "        for v in graph[u]:\n",
    "            in_degree[v] -= 1\n",
    "            if in_degree[v] == 0:\n",
    "                Q.appendleft(v)\n",
    " \n",
    "    if len(L) == len(graph):\n",
    "        print(\"DAG\")\n",
    "        return L\n",
    "    else:\n",
    "        c_graph = {}\n",
    "        for g in graph:\n",
    "            temp = []\n",
    "            for v in graph[g]:\n",
    "                if g not in visited:\n",
    "                    temp.append(v)\n",
    "                if temp != []:\n",
    "                    c_graph[g] = temp\n",
    "        cycle = []\n",
    "        i = 0\n",
    "        for c in c_graph:\n",
    "            if cycle == []:\n",
    "                cycle.append(c)\n",
    "            else:\n",
    "                if c in cycle:\n",
    "                    cycle.append(c)\n",
    "                    return\n",
    "                cycle.append(c)\n",
    "        print(\"cycle detected\")\n",
    "        return cycle\n",
    "    \n",
    "    \n",
    "graph = {1:[2,3],\n",
    "         2:[4],\n",
    "         3:[4,5],\n",
    "         4:[1],\n",
    "         5:[]}\n",
    "\n",
    "print(topological(graph))\n",
    "\n",
    "graph = {1:[2,3],\n",
    "         2:[4],\n",
    "         3:[4,5],\n",
    "         4:[5],\n",
    "         5:[]}\n",
    "\n",
    "print(topological(graph))\n",
    "                "
   ]
  }
 ],
 "metadata": {
  "kernelspec": {
   "display_name": "Python 3",
   "language": "python",
   "name": "python3"
  },
  "language_info": {
   "codemirror_mode": {
    "name": "ipython",
    "version": 3
   },
   "file_extension": ".py",
   "mimetype": "text/x-python",
   "name": "python",
   "nbconvert_exporter": "python",
   "pygments_lexer": "ipython3",
   "version": "3.7.4"
  }
 },
 "nbformat": 4,
 "nbformat_minor": 2
}
